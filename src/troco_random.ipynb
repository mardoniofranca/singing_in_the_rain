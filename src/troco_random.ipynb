{
 "cells": [
  {
   "cell_type": "markdown",
   "id": "2d674361",
   "metadata": {},
   "source": [
    "## Programa para Troco"
   ]
  },
  {
   "cell_type": "markdown",
   "id": "d0015ea2",
   "metadata": {},
   "source": [
    "#### Definições:\n",
    "<hr/> \n",
    "<strong> Objetivo  </strong> : Minimizar a quantidade de cédulas, tendo como restrição o valor de cada cédula| (Função Objetivo) <br />\n",
    "<strong> Restrição </strong> : Cédulas (100,50,20,10,5,2,1) | (Constraints)<br />\n",
    "<hr/> "
   ]
  },
  {
   "cell_type": "markdown",
   "id": "248ed602",
   "metadata": {},
   "source": [
    "#### Greedy Algorithm  (Guloso/Ganancioso)"
   ]
  },
  {
   "cell_type": "code",
   "execution_count": 15,
   "id": "8e98c39d",
   "metadata": {},
   "outputs": [],
   "source": [
    "cedulas =[100,50,20,10,5,2,1]"
   ]
  },
  {
   "cell_type": "code",
   "execution_count": 2,
   "id": "5a58a8e2",
   "metadata": {},
   "outputs": [
    {
     "data": {
      "text/plain": [
       "[100, 50, 20, 10, 5, 2, 1]"
      ]
     },
     "execution_count": 2,
     "metadata": {},
     "output_type": "execute_result"
    }
   ],
   "source": [
    "sorted(cedulas, reverse=True)"
   ]
  },
  {
   "cell_type": "code",
   "execution_count": 3,
   "id": "9cf4d582",
   "metadata": {},
   "outputs": [],
   "source": [
    "def escolhe_cedula(troco, cedulas):\n",
    "    cs = sorted(cedulas, reverse=True)\n",
    "    for c in cs:\n",
    "        if troco >= c:\n",
    "            return c\n",
    "    return 0"
   ]
  },
  {
   "cell_type": "code",
   "execution_count": 5,
   "id": "4ffbe337",
   "metadata": {},
   "outputs": [
    {
     "data": {
      "text/plain": [
       "50"
      ]
     },
     "execution_count": 5,
     "metadata": {},
     "output_type": "execute_result"
    }
   ],
   "source": [
    "escolhe_cedula(80,cedulas)"
   ]
  },
  {
   "cell_type": "code",
   "execution_count": 6,
   "id": "36c23189",
   "metadata": {},
   "outputs": [
    {
     "data": {
      "text/plain": [
       "20"
      ]
     },
     "execution_count": 6,
     "metadata": {},
     "output_type": "execute_result"
    }
   ],
   "source": [
    "escolhe_cedula(30,cedulas)"
   ]
  },
  {
   "cell_type": "code",
   "execution_count": 7,
   "id": "4769df0f",
   "metadata": {},
   "outputs": [
    {
     "data": {
      "text/plain": [
       "10"
      ]
     },
     "execution_count": 7,
     "metadata": {},
     "output_type": "execute_result"
    }
   ],
   "source": [
    "escolhe_cedula(10,cedulas)"
   ]
  },
  {
   "cell_type": "code",
   "execution_count": 8,
   "id": "b271ac9c",
   "metadata": {},
   "outputs": [],
   "source": [
    "def menor_cedula(cedulas):\n",
    "    cs = sorted(cedulas, reverse=False)\n",
    "    return cs[0]"
   ]
  },
  {
   "cell_type": "code",
   "execution_count": 9,
   "id": "2bdbfaeb",
   "metadata": {},
   "outputs": [
    {
     "data": {
      "text/plain": [
       "1"
      ]
     },
     "execution_count": 9,
     "metadata": {},
     "output_type": "execute_result"
    }
   ],
   "source": [
    "menor_cedula(cedulas)"
   ]
  },
  {
   "cell_type": "code",
   "execution_count": 10,
   "id": "595165c2",
   "metadata": {},
   "outputs": [],
   "source": [
    "cedulas = [100,50,25,5]"
   ]
  },
  {
   "cell_type": "code",
   "execution_count": 11,
   "id": "3838223f",
   "metadata": {},
   "outputs": [
    {
     "data": {
      "text/plain": [
       "5"
      ]
     },
     "execution_count": 11,
     "metadata": {},
     "output_type": "execute_result"
    }
   ],
   "source": [
    "menor_cedula(cedulas)"
   ]
  },
  {
   "cell_type": "code",
   "execution_count": 12,
   "id": "0bbfc1d5",
   "metadata": {},
   "outputs": [
    {
     "data": {
      "text/plain": [
       "100"
      ]
     },
     "execution_count": 12,
     "metadata": {},
     "output_type": "execute_result"
    }
   ],
   "source": [
    "escolhe_cedula(120,cedulas)"
   ]
  },
  {
   "cell_type": "code",
   "execution_count": 13,
   "id": "9f7e220c",
   "metadata": {},
   "outputs": [
    {
     "data": {
      "text/plain": [
       "50"
      ]
     },
     "execution_count": 13,
     "metadata": {},
     "output_type": "execute_result"
    }
   ],
   "source": [
    "escolhe_cedula(80,cedulas)"
   ]
  },
  {
   "cell_type": "code",
   "execution_count": 14,
   "id": "60870624",
   "metadata": {},
   "outputs": [
    {
     "data": {
      "text/plain": [
       "50"
      ]
     },
     "execution_count": 14,
     "metadata": {},
     "output_type": "execute_result"
    }
   ],
   "source": [
    "escolhe_cedula(50,cedulas)"
   ]
  },
  {
   "cell_type": "markdown",
   "id": "42150e29",
   "metadata": {},
   "source": [
    "### Informe o troco"
   ]
  },
  {
   "cell_type": "code",
   "execution_count": 16,
   "id": "17ed69ec",
   "metadata": {},
   "outputs": [],
   "source": [
    "def exec(troco, cedulas):\n",
    "    cedulas_troco = []\n",
    "    menor_troco   = menor_cedula(cedulas)\n",
    "    while troco > 0 :\n",
    "        cedula = escolhe_cedula(troco,cedulas)\n",
    "        troco = troco - cedula\n",
    "        cedulas_troco.append(cedula)\n",
    "        if troco < menor_troco:\n",
    "            break;   \n",
    "    return troco,cedulas_troco"
   ]
  },
  {
   "cell_type": "code",
   "execution_count": 18,
   "id": "7eac958c",
   "metadata": {},
   "outputs": [
    {
     "name": "stdout",
     "output_type": "stream",
     "text": [
      "0 [50, 20, 10]\n"
     ]
    }
   ],
   "source": [
    "tr,cs = exec(80,cedulas)\n",
    "print(tr,cs)"
   ]
  },
  {
   "cell_type": "code",
   "execution_count": 21,
   "id": "961a0116",
   "metadata": {},
   "outputs": [
    {
     "data": {
      "text/plain": [
       "[100, 50, 10]"
      ]
     },
     "execution_count": 21,
     "metadata": {},
     "output_type": "execute_result"
    }
   ],
   "source": [
    "cedulas = [100,50,10]\n",
    "cedulas"
   ]
  },
  {
   "cell_type": "code",
   "execution_count": 20,
   "id": "bc3c350c",
   "metadata": {},
   "outputs": [
    {
     "name": "stdout",
     "output_type": "stream",
     "text": [
      "0 [50]\n"
     ]
    }
   ],
   "source": [
    "tr,cs = exec(50,cedulas)\n",
    "print(tr,cs)"
   ]
  },
  {
   "cell_type": "code",
   "execution_count": 22,
   "id": "67e9001e",
   "metadata": {},
   "outputs": [
    {
     "name": "stdout",
     "output_type": "stream",
     "text": [
      "5 [100, 10, 10, 10]\n"
     ]
    }
   ],
   "source": [
    "tr,cs = exec(135,cedulas)\n",
    "print(tr,cs)"
   ]
  },
  {
   "cell_type": "code",
   "execution_count": 23,
   "id": "17f14754",
   "metadata": {},
   "outputs": [
    {
     "data": {
      "text/plain": [
       "[100, 50, 25, 10, 1]"
      ]
     },
     "execution_count": 23,
     "metadata": {},
     "output_type": "execute_result"
    }
   ],
   "source": [
    "cedulas = [100,50,25,10,1]\n",
    "cedulas"
   ]
  },
  {
   "cell_type": "code",
   "execution_count": 24,
   "id": "96a9de87",
   "metadata": {},
   "outputs": [
    {
     "name": "stdout",
     "output_type": "stream",
     "text": [
      "0 [50, 1, 1, 1, 1, 1, 1, 1]\n"
     ]
    }
   ],
   "source": [
    "tr,cs = exec(57,cedulas)\n",
    "print(tr,cs)"
   ]
  },
  {
   "cell_type": "code",
   "execution_count": 27,
   "id": "f4e51e6f",
   "metadata": {},
   "outputs": [
    {
     "data": {
      "text/plain": [
       "[100, 50, 25, 10, 1]"
      ]
     },
     "execution_count": 27,
     "metadata": {},
     "output_type": "execute_result"
    }
   ],
   "source": [
    "cedulas"
   ]
  },
  {
   "cell_type": "markdown",
   "id": "c37768bd",
   "metadata": {},
   "source": [
    "### Algoritmo usando a técnica de distribuição de aleatório "
   ]
  },
  {
   "cell_type": "code",
   "execution_count": 30,
   "id": "3487d431",
   "metadata": {},
   "outputs": [
    {
     "data": {
      "text/plain": [
       "8"
      ]
     },
     "execution_count": 30,
     "metadata": {},
     "output_type": "execute_result"
    }
   ],
   "source": [
    "import random \n",
    "random.randrange(10) "
   ]
  },
  {
   "cell_type": "code",
   "execution_count": 33,
   "id": "a0795eb8",
   "metadata": {},
   "outputs": [],
   "source": [
    "n = len(cedulas)"
   ]
  },
  {
   "cell_type": "code",
   "execution_count": 34,
   "id": "06aa0c28",
   "metadata": {},
   "outputs": [
    {
     "data": {
      "text/plain": [
       "1"
      ]
     },
     "execution_count": 34,
     "metadata": {},
     "output_type": "execute_result"
    }
   ],
   "source": [
    "random.randrange(0,n-1) "
   ]
  },
  {
   "cell_type": "code",
   "execution_count": 65,
   "id": "f3d0f675",
   "metadata": {},
   "outputs": [
    {
     "data": {
      "text/plain": [
       "0"
      ]
     },
     "execution_count": 65,
     "metadata": {},
     "output_type": "execute_result"
    }
   ],
   "source": [
    "random.randrange(0,2) "
   ]
  },
  {
   "cell_type": "code",
   "execution_count": 80,
   "id": "733edfea",
   "metadata": {},
   "outputs": [],
   "source": [
    "def sortear_cedula(cedulas):\n",
    "    n = len(cedulas)\n",
    "    r = random.randrange(0,n) \n",
    "    return cedulas[r]  "
   ]
  },
  {
   "cell_type": "code",
   "execution_count": 81,
   "id": "5b414ea1",
   "metadata": {},
   "outputs": [
    {
     "data": {
      "text/plain": [
       "100"
      ]
     },
     "execution_count": 81,
     "metadata": {},
     "output_type": "execute_result"
    }
   ],
   "source": [
    "sortear_cedula([100,50])"
   ]
  },
  {
   "cell_type": "code",
   "execution_count": 82,
   "id": "f3f4f923",
   "metadata": {},
   "outputs": [
    {
     "data": {
      "text/plain": [
       "100"
      ]
     },
     "execution_count": 82,
     "metadata": {},
     "output_type": "execute_result"
    }
   ],
   "source": [
    "sortear_cedula(cedulas)"
   ]
  },
  {
   "cell_type": "code",
   "execution_count": 88,
   "id": "af6e5e4f",
   "metadata": {},
   "outputs": [],
   "source": [
    "def sortear(troco,cedulas):\n",
    "    n = 0\n",
    "    ced = sortear_cedula(cedulas)\n",
    "    if ced <=troco:\n",
    "        return ced\n",
    "    else:\n",
    "        while ced > troco:\n",
    "            ced = sortear_cedula(cedulas)\n",
    "            n = n + 1\n",
    "            if n > 100:\n",
    "                return -1\n",
    "        return ced"
   ]
  },
  {
   "cell_type": "code",
   "execution_count": 100,
   "id": "53f45695",
   "metadata": {},
   "outputs": [
    {
     "data": {
      "text/plain": [
       "25"
      ]
     },
     "execution_count": 100,
     "metadata": {},
     "output_type": "execute_result"
    }
   ],
   "source": [
    "sortear(90,[100,50,25,10])"
   ]
  },
  {
   "cell_type": "code",
   "execution_count": 139,
   "id": "5b35bb5a",
   "metadata": {},
   "outputs": [],
   "source": [
    "def execucao(troco,cedulas):\n",
    "    soma = 0\n",
    "    n    = 0\n",
    "    q    = 0\n",
    "    ceds = []\n",
    "    while troco > 0:\n",
    "        ced = sortear(troco,cedulas)\n",
    "        if ced > -1:\n",
    "            ceds.append(ced)\n",
    "            troco = troco - ced  \n",
    "            soma  = soma + ced\n",
    "            q     = q + 1\n",
    "        if n > 100:\n",
    "            print('fim')\n",
    "            return ceds\n",
    "        n = n + 1\n",
    "    return ceds,soma,q"
   ]
  },
  {
   "cell_type": "markdown",
   "id": "fc3633a2",
   "metadata": {},
   "source": [
    "#### soluções diferentes para o mesmo valor (gerando qtde cédulas diferentes)"
   ]
  },
  {
   "cell_type": "code",
   "execution_count": 140,
   "id": "7f3fa7be",
   "metadata": {},
   "outputs": [
    {
     "data": {
      "text/plain": [
       "([50, 1, 10, 10, 10, 5, 1, 1, 1], 89, 9)"
      ]
     },
     "execution_count": 140,
     "metadata": {},
     "output_type": "execute_result"
    }
   ],
   "source": [
    "execucao(89,[100,50,25,10,5,1])"
   ]
  },
  {
   "cell_type": "code",
   "execution_count": 141,
   "id": "5bcea218",
   "metadata": {},
   "outputs": [
    {
     "data": {
      "text/plain": [
       "([25, 50, 10, 1, 1, 1, 1], 89, 7)"
      ]
     },
     "execution_count": 141,
     "metadata": {},
     "output_type": "execute_result"
    }
   ],
   "source": [
    "execucao(89,[100,50,25,10,5,1])"
   ]
  },
  {
   "cell_type": "code",
   "execution_count": 143,
   "id": "25130707",
   "metadata": {},
   "outputs": [
    {
     "data": {
      "text/plain": [
       "([10, 50, 5, 1, 10, 5, 5, 1, 1, 1], 89, 10)"
      ]
     },
     "execution_count": 143,
     "metadata": {},
     "output_type": "execute_result"
    }
   ],
   "source": [
    "execucao(89,[100,50,25,10,5,1])"
   ]
  },
  {
   "cell_type": "code",
   "execution_count": 145,
   "id": "43320df8",
   "metadata": {},
   "outputs": [
    {
     "data": {
      "text/plain": [
       "([25, 25, 10, 25, 1, 1, 1, 1], 89, 8)"
      ]
     },
     "execution_count": 145,
     "metadata": {},
     "output_type": "execute_result"
    }
   ],
   "source": [
    "execucao(89,[100,50,25,10,5,1])"
   ]
  },
  {
   "cell_type": "code",
   "execution_count": 146,
   "id": "f24eb4bc",
   "metadata": {},
   "outputs": [
    {
     "data": {
      "text/plain": [
       "([5, 50, 1, 10, 10, 10, 1, 1, 1], 89, 9)"
      ]
     },
     "execution_count": 146,
     "metadata": {},
     "output_type": "execute_result"
    }
   ],
   "source": [
    "execucao(89,[100,50,25,10,5,1])"
   ]
  },
  {
   "cell_type": "code",
   "execution_count": 148,
   "id": "c77aa62a",
   "metadata": {},
   "outputs": [
    {
     "data": {
      "text/plain": [
       "([10, 10, 5, 1, 5, 25, 5, 1, 1, 5, 1, 1, 5, 1, 10, 1, 1, 1], 89, 18)"
      ]
     },
     "execution_count": 148,
     "metadata": {},
     "output_type": "execute_result"
    }
   ],
   "source": [
    "execucao(89,[100,50,25,10,5,1])"
   ]
  },
  {
   "cell_type": "code",
   "execution_count": 150,
   "id": "aeaed840",
   "metadata": {},
   "outputs": [
    {
     "data": {
      "text/plain": [
       "([50, 25, 5, 1, 5, 1, 1, 1], 89, 8)"
      ]
     },
     "execution_count": 150,
     "metadata": {},
     "output_type": "execute_result"
    }
   ],
   "source": [
    "execucao(89,[100,50,25,10,5,1])"
   ]
  },
  {
   "cell_type": "code",
   "execution_count": null,
   "id": "c0efb8b2",
   "metadata": {},
   "outputs": [],
   "source": [
    "#25,10,10,10,1,1 (6)"
   ]
  },
  {
   "cell_type": "code",
   "execution_count": 25,
   "id": "04a11c80",
   "metadata": {},
   "outputs": [
    {
     "name": "stdout",
     "output_type": "stream",
     "text": [
      "0 [25, 10, 1, 1, 1, 1, 1]\n"
     ]
    }
   ],
   "source": [
    "tr,cs = exec(40,cedulas)\n",
    "print(tr,cs)"
   ]
  },
  {
   "cell_type": "code",
   "execution_count": 26,
   "id": "7c8f7141",
   "metadata": {},
   "outputs": [
    {
     "name": "stdout",
     "output_type": "stream",
     "text": [
      "0 [50, 25, 10, 1, 1, 1, 1, 1]\n"
     ]
    }
   ],
   "source": [
    "tr,cs = exec(90,cedulas)\n",
    "print(tr,cs)"
   ]
  },
  {
   "cell_type": "markdown",
   "id": "b42c90a2",
   "metadata": {},
   "source": [
    "##### Problema do Troco para o Algoritmo Guloso"
   ]
  },
  {
   "cell_type": "code",
   "execution_count": null,
   "id": "7cd6d4fa",
   "metadata": {},
   "outputs": [],
   "source": [
    "tr,cs = exec(30,[100,50,25,10,1])\n",
    "print(tr,cs)"
   ]
  },
  {
   "cell_type": "markdown",
   "id": "21b7dec1",
   "metadata": {},
   "source": [
    "###### Veja também"
   ]
  },
  {
   "cell_type": "markdown",
   "id": "4d37ccf7",
   "metadata": {},
   "source": [
    "## Escalanamento de Atividades"
   ]
  },
  {
   "cell_type": "code",
   "execution_count": null,
   "id": "eb02d243",
   "metadata": {},
   "outputs": [],
   "source": [
    "atividades_inicio = [1,3,0,5,3,5,6 ,8, 8, 2, 12]\n",
    "atividades_fim    = [4,5,6,7,9,9,10,11,12,15,16]"
   ]
  },
  {
   "cell_type": "markdown",
   "id": "85895b44",
   "metadata": {},
   "source": [
    "#### primeiro passo, ordena as atividades com menor tempo de execucao"
   ]
  },
  {
   "cell_type": "markdown",
   "id": "7a261811",
   "metadata": {},
   "source": [
    "#### o objetivo maximizar o máximo de atividades no período "
   ]
  }
 ],
 "metadata": {
  "kernelspec": {
   "display_name": "Python 3 (ipykernel)",
   "language": "python",
   "name": "python3"
  },
  "language_info": {
   "codemirror_mode": {
    "name": "ipython",
    "version": 3
   },
   "file_extension": ".py",
   "mimetype": "text/x-python",
   "name": "python",
   "nbconvert_exporter": "python",
   "pygments_lexer": "ipython3",
   "version": "3.9.12"
  },
  "widgets": {
   "application/vnd.jupyter.widget-state+json": {
    "state": {},
    "version_major": 2,
    "version_minor": 0
   }
  }
 },
 "nbformat": 4,
 "nbformat_minor": 5
}
