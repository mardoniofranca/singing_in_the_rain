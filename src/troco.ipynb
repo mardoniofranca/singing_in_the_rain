{
 "cells": [
  {
   "cell_type": "markdown",
   "id": "2d674361",
   "metadata": {},
   "source": [
    "## Programa para Troco"
   ]
  },
  {
   "cell_type": "code",
   "execution_count": 1,
   "id": "c3ccd553",
   "metadata": {},
   "outputs": [],
   "source": [
    "import pandas as pd"
   ]
  },
  {
   "cell_type": "markdown",
   "id": "d0015ea2",
   "metadata": {},
   "source": [
    "#### Definições:\n",
    "<hr/> \n",
    "<strong> Objetivo  </strong> : Minimizar a quantidade de cédulas, tendo como restrição o valor de cada cédula| (Função Objetivo) <br />\n",
    "<strong> Restrição </strong> : Cédulas (100,50,20,10,5,2,1) | (Constraints)<br />\n",
    "<hr/> "
   ]
  },
  {
   "cell_type": "markdown",
   "id": "248ed602",
   "metadata": {},
   "source": [
    "#### Greed Algorithm  (Guloso/Ganancioso)"
   ]
  },
  {
   "cell_type": "code",
   "execution_count": 2,
   "id": "8e98c39d",
   "metadata": {},
   "outputs": [],
   "source": [
    "cedulas =[100,50,20,10,5,2,1]"
   ]
  },
  {
   "cell_type": "code",
   "execution_count": 4,
   "id": "5a58a8e2",
   "metadata": {},
   "outputs": [
    {
     "data": {
      "text/plain": [
       "[100, 50, 20, 10, 5, 2, 1]"
      ]
     },
     "execution_count": 4,
     "metadata": {},
     "output_type": "execute_result"
    }
   ],
   "source": [
    "sorted(cedulas, reverse=True)"
   ]
  },
  {
   "cell_type": "code",
   "execution_count": 9,
   "id": "9cf4d582",
   "metadata": {},
   "outputs": [],
   "source": [
    "def escolhe_cedula(troco, cedulas):\n",
    "    cs = sorted(cedulas, reverse=True)\n",
    "    for c in cs:\n",
    "        if troco >= c:\n",
    "            return c\n",
    "    return 0"
   ]
  },
  {
   "cell_type": "code",
   "execution_count": 16,
   "id": "b271ac9c",
   "metadata": {},
   "outputs": [],
   "source": [
    "def menor_cedula(cedulas):\n",
    "    cs = sorted(cedulas, reverse=False)\n",
    "    return cs[0]"
   ]
  },
  {
   "cell_type": "code",
   "execution_count": 17,
   "id": "2bdbfaeb",
   "metadata": {},
   "outputs": [
    {
     "data": {
      "text/plain": [
       "1"
      ]
     },
     "execution_count": 17,
     "metadata": {},
     "output_type": "execute_result"
    }
   ],
   "source": [
    "menor_cedula(cedulas)"
   ]
  },
  {
   "cell_type": "code",
   "execution_count": 10,
   "id": "0bbfc1d5",
   "metadata": {},
   "outputs": [
    {
     "data": {
      "text/plain": [
       "100"
      ]
     },
     "execution_count": 10,
     "metadata": {},
     "output_type": "execute_result"
    }
   ],
   "source": [
    "escolhe_cedula(120,cedulas)"
   ]
  },
  {
   "cell_type": "code",
   "execution_count": 11,
   "id": "9f7e220c",
   "metadata": {},
   "outputs": [
    {
     "data": {
      "text/plain": [
       "50"
      ]
     },
     "execution_count": 11,
     "metadata": {},
     "output_type": "execute_result"
    }
   ],
   "source": [
    "escolhe_cedula(80,cedulas)"
   ]
  },
  {
   "cell_type": "code",
   "execution_count": 12,
   "id": "60870624",
   "metadata": {},
   "outputs": [
    {
     "data": {
      "text/plain": [
       "50"
      ]
     },
     "execution_count": 12,
     "metadata": {},
     "output_type": "execute_result"
    }
   ],
   "source": [
    "escolhe_cedula(50,cedulas)"
   ]
  },
  {
   "cell_type": "markdown",
   "id": "42150e29",
   "metadata": {},
   "source": [
    "### Informe o troco"
   ]
  },
  {
   "cell_type": "code",
   "execution_count": 15,
   "id": "2b8bf0a6",
   "metadata": {},
   "outputs": [],
   "source": [
    "troco = 30"
   ]
  },
  {
   "cell_type": "code",
   "execution_count": 33,
   "id": "17ed69ec",
   "metadata": {},
   "outputs": [],
   "source": [
    "def exec(troco, cedulas):\n",
    "    cedulas_troco = []\n",
    "    menor_troco   = menor_cedula(cedulas)\n",
    "    while troco > 0 :\n",
    "        cedula = escolhe_cedula(troco,cedulas)\n",
    "        troco = troco - cedula\n",
    "        cedulas_troco.append(cedula)\n",
    "        if troco < menor_troco:\n",
    "            break;   \n",
    "    return troco,cedulas_troco"
   ]
  },
  {
   "cell_type": "code",
   "execution_count": 34,
   "id": "7eac958c",
   "metadata": {},
   "outputs": [
    {
     "name": "stdout",
     "output_type": "stream",
     "text": [
      "0 [20, 10]\n"
     ]
    }
   ],
   "source": [
    "tr,cs = exec(30,cedulas)\n",
    "print(tr,cs)"
   ]
  },
  {
   "cell_type": "code",
   "execution_count": 35,
   "id": "bc3c350c",
   "metadata": {},
   "outputs": [
    {
     "name": "stdout",
     "output_type": "stream",
     "text": [
      "0 [50, 2, 2]\n"
     ]
    }
   ],
   "source": [
    "tr,cs = exec(54,cedulas)\n",
    "print(tr,cs)"
   ]
  },
  {
   "cell_type": "markdown",
   "id": "b42c90a2",
   "metadata": {},
   "source": [
    "##### Problema do Troco para o Algoritmo Guloso"
   ]
  },
  {
   "cell_type": "code",
   "execution_count": 36,
   "id": "7cd6d4fa",
   "metadata": {},
   "outputs": [
    {
     "name": "stdout",
     "output_type": "stream",
     "text": [
      "0 [25, 1, 1, 1, 1, 1]\n"
     ]
    }
   ],
   "source": [
    "tr,cs = exec(30,[100,50,25,10,1])\n",
    "print(tr,cs)"
   ]
  },
  {
   "cell_type": "markdown",
   "id": "21b7dec1",
   "metadata": {},
   "source": [
    "###### Veja também"
   ]
  },
  {
   "cell_type": "markdown",
   "id": "4d37ccf7",
   "metadata": {},
   "source": [
    "## Escalanamento de Atividades"
   ]
  },
  {
   "cell_type": "code",
   "execution_count": 38,
   "id": "eb02d243",
   "metadata": {},
   "outputs": [],
   "source": [
    "atividades_inicio = [1,3,0,5,3,5,6 ,8, 8, 2, 12]\n",
    "atividades_fim    = [4,5,6,7,9,9,10,11,12,15,16]"
   ]
  },
  {
   "cell_type": "markdown",
   "id": "85895b44",
   "metadata": {},
   "source": [
    "#### primeiro passo, ordena as atividades com menor tempo de execucao"
   ]
  },
  {
   "cell_type": "markdown",
   "id": "7a261811",
   "metadata": {},
   "source": [
    "#### o objetivo maximizar o máximo de atividades no período "
   ]
  }
 ],
 "metadata": {
  "kernelspec": {
   "display_name": "Python 3 (ipykernel)",
   "language": "python",
   "name": "python3"
  },
  "language_info": {
   "codemirror_mode": {
    "name": "ipython",
    "version": 3
   },
   "file_extension": ".py",
   "mimetype": "text/x-python",
   "name": "python",
   "nbconvert_exporter": "python",
   "pygments_lexer": "ipython3",
   "version": "3.9.12"
  },
  "widgets": {
   "application/vnd.jupyter.widget-state+json": {
    "state": {},
    "version_major": 2,
    "version_minor": 0
   }
  }
 },
 "nbformat": 4,
 "nbformat_minor": 5
}
