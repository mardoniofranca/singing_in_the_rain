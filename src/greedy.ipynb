{
 "cells": [
  {
   "cell_type": "markdown",
   "id": "2d674361",
   "metadata": {},
   "source": [
    "## Programa para Mochila (Nayves, Greedy)"
   ]
  },
  {
   "cell_type": "code",
   "execution_count": 21,
   "id": "c3ccd553",
   "metadata": {},
   "outputs": [],
   "source": [
    "import pandas as pd"
   ]
  },
  {
   "cell_type": "code",
   "execution_count": 22,
   "id": "d28fe62d",
   "metadata": {},
   "outputs": [],
   "source": [
    "df = pd.read_csv('../data/dados.csv')"
   ]
  },
  {
   "cell_type": "code",
   "execution_count": 23,
   "id": "7e0a645f",
   "metadata": {},
   "outputs": [
    {
     "data": {
      "text/html": [
       "<div>\n",
       "<style scoped>\n",
       "    .dataframe tbody tr th:only-of-type {\n",
       "        vertical-align: middle;\n",
       "    }\n",
       "\n",
       "    .dataframe tbody tr th {\n",
       "        vertical-align: top;\n",
       "    }\n",
       "\n",
       "    .dataframe thead th {\n",
       "        text-align: right;\n",
       "    }\n",
       "</style>\n",
       "<table border=\"1\" class=\"dataframe\">\n",
       "  <thead>\n",
       "    <tr style=\"text-align: right;\">\n",
       "      <th></th>\n",
       "      <th>item</th>\n",
       "      <th>valor</th>\n",
       "      <th>peso</th>\n",
       "      <th>valor/peso</th>\n",
       "    </tr>\n",
       "  </thead>\n",
       "  <tbody>\n",
       "    <tr>\n",
       "      <th>0</th>\n",
       "      <td>notebook</td>\n",
       "      <td>3000</td>\n",
       "      <td>3.0</td>\n",
       "      <td>1000</td>\n",
       "    </tr>\n",
       "    <tr>\n",
       "      <th>1</th>\n",
       "      <td>monitor</td>\n",
       "      <td>1000</td>\n",
       "      <td>4.0</td>\n",
       "      <td>250</td>\n",
       "    </tr>\n",
       "    <tr>\n",
       "      <th>2</th>\n",
       "      <td>relogio</td>\n",
       "      <td>1000</td>\n",
       "      <td>0.5</td>\n",
       "      <td>2000</td>\n",
       "    </tr>\n",
       "    <tr>\n",
       "      <th>3</th>\n",
       "      <td>joia</td>\n",
       "      <td>5000</td>\n",
       "      <td>0.1</td>\n",
       "      <td>50000</td>\n",
       "    </tr>\n",
       "    <tr>\n",
       "      <th>4</th>\n",
       "      <td>quadro</td>\n",
       "      <td>2000</td>\n",
       "      <td>4.0</td>\n",
       "      <td>500</td>\n",
       "    </tr>\n",
       "    <tr>\n",
       "      <th>5</th>\n",
       "      <td>livro</td>\n",
       "      <td>100</td>\n",
       "      <td>0.5</td>\n",
       "      <td>200</td>\n",
       "    </tr>\n",
       "    <tr>\n",
       "      <th>6</th>\n",
       "      <td>ventilador</td>\n",
       "      <td>100</td>\n",
       "      <td>2.0</td>\n",
       "      <td>50</td>\n",
       "    </tr>\n",
       "    <tr>\n",
       "      <th>7</th>\n",
       "      <td>jogo xadrez</td>\n",
       "      <td>100</td>\n",
       "      <td>0.5</td>\n",
       "      <td>200</td>\n",
       "    </tr>\n",
       "    <tr>\n",
       "      <th>8</th>\n",
       "      <td>celular iphone</td>\n",
       "      <td>2000</td>\n",
       "      <td>0.5</td>\n",
       "      <td>4000</td>\n",
       "    </tr>\n",
       "    <tr>\n",
       "      <th>9</th>\n",
       "      <td>tablet</td>\n",
       "      <td>2000</td>\n",
       "      <td>0.5</td>\n",
       "      <td>4000</td>\n",
       "    </tr>\n",
       "  </tbody>\n",
       "</table>\n",
       "</div>"
      ],
      "text/plain": [
       "             item  valor  peso  valor/peso\n",
       "0        notebook   3000   3.0        1000\n",
       "1         monitor   1000   4.0         250\n",
       "2         relogio   1000   0.5        2000\n",
       "3            joia   5000   0.1       50000\n",
       "4          quadro   2000   4.0         500\n",
       "5           livro    100   0.5         200\n",
       "6      ventilador    100   2.0          50\n",
       "7     jogo xadrez    100   0.5         200\n",
       "8  celular iphone   2000   0.5        4000\n",
       "9          tablet   2000   0.5        4000"
      ]
     },
     "execution_count": 23,
     "metadata": {},
     "output_type": "execute_result"
    }
   ],
   "source": [
    "df.head(11)"
   ]
  },
  {
   "cell_type": "markdown",
   "id": "d0015ea2",
   "metadata": {},
   "source": [
    "#### Definições:\n",
    "<hr/> \n",
    "<strong> Objetivo  </strong> : Maximixar o valor, tendo como restrição o Peso máximo | (Função Objetivo) <br />\n",
    "<strong> Restrição </strong> : Peso Máximo  = 5 kg | (Constraints)<br />\n",
    "<hr/> "
   ]
  },
  {
   "cell_type": "markdown",
   "id": "e4145cd2",
   "metadata": {},
   "source": [
    "#### Nayves Algorithm"
   ]
  },
  {
   "cell_type": "code",
   "execution_count": 25,
   "id": "5e5678fe",
   "metadata": {},
   "outputs": [
    {
     "data": {
      "text/html": [
       "<div>\n",
       "<style scoped>\n",
       "    .dataframe tbody tr th:only-of-type {\n",
       "        vertical-align: middle;\n",
       "    }\n",
       "\n",
       "    .dataframe tbody tr th {\n",
       "        vertical-align: top;\n",
       "    }\n",
       "\n",
       "    .dataframe thead th {\n",
       "        text-align: right;\n",
       "    }\n",
       "</style>\n",
       "<table border=\"1\" class=\"dataframe\">\n",
       "  <thead>\n",
       "    <tr style=\"text-align: right;\">\n",
       "      <th></th>\n",
       "      <th>item</th>\n",
       "      <th>valor</th>\n",
       "      <th>peso</th>\n",
       "      <th>valor/peso</th>\n",
       "    </tr>\n",
       "  </thead>\n",
       "  <tbody>\n",
       "    <tr>\n",
       "      <th>8</th>\n",
       "      <td>celular iphone</td>\n",
       "      <td>2000</td>\n",
       "      <td>0.5</td>\n",
       "      <td>4000</td>\n",
       "    </tr>\n",
       "  </tbody>\n",
       "</table>\n",
       "</div>"
      ],
      "text/plain": [
       "             item  valor  peso  valor/peso\n",
       "8  celular iphone   2000   0.5        4000"
      ]
     },
     "execution_count": 25,
     "metadata": {},
     "output_type": "execute_result"
    }
   ],
   "source": [
    "### sortear elemento no dataframe:\n",
    "df.sample(1)"
   ]
  },
  {
   "cell_type": "code",
   "execution_count": 26,
   "id": "dbeed6ff",
   "metadata": {},
   "outputs": [
    {
     "data": {
      "text/plain": [
       "Index(['item', 'valor', 'peso', 'valor/peso'], dtype='object')"
      ]
     },
     "execution_count": 26,
     "metadata": {},
     "output_type": "execute_result"
    }
   ],
   "source": [
    "df.columns"
   ]
  },
  {
   "cell_type": "code",
   "execution_count": 27,
   "id": "0c37d2a7",
   "metadata": {},
   "outputs": [
    {
     "data": {
      "text/plain": [
       "3.0"
      ]
     },
     "execution_count": 27,
     "metadata": {},
     "output_type": "execute_result"
    }
   ],
   "source": [
    "### selecionar campo (nome) num datraframe:\n",
    "df['peso'].values[0]"
   ]
  },
  {
   "cell_type": "code",
   "execution_count": 130,
   "id": "95a544de",
   "metadata": {},
   "outputs": [
    {
     "name": "stdout",
     "output_type": "stream",
     "text": [
      "livro\n",
      "monitor\n",
      "relogio\n",
      "5.0\n"
     ]
    }
   ],
   "source": [
    "mochila      = []\n",
    "pesos        = []\n",
    "valores      = []\n",
    "\n",
    "n            = 100 # 100 interações\n",
    "peso_limite  = 5\n",
    "peso_total   = 0\n",
    "valor_total  = 0\n",
    "\n",
    "while (peso_total < 5):\n",
    "    #sortear item na mochila\n",
    "    temp  = df.sample(1) \n",
    "    item  = temp['item'].values[0]\n",
    "    peso  = temp['peso'].values[0]\n",
    "    valor = temp['valor'].values[0]\n",
    "    \n",
    "    if (peso_total + peso) <=5 :\n",
    "        mochila.append(item)\n",
    "        pesos.append(peso)\n",
    "        valores.append(valor)\n",
    "        peso_total  = peso_total + peso \n",
    "        valor_total = valor_total + valor\n",
    "        print(item)\n",
    "    \n",
    "    if (n > 200):\n",
    "        peso_total = 6;\n",
    "    n =n + 1\n",
    "\n",
    "print(peso_total)"
   ]
  },
  {
   "cell_type": "code",
   "execution_count": 131,
   "id": "81257a20",
   "metadata": {},
   "outputs": [
    {
     "name": "stdout",
     "output_type": "stream",
     "text": [
      "['livro', 'monitor', 'relogio']\n",
      "[0.5, 4.0, 0.5]\n",
      "[100, 1000, 1000]\n",
      "5.0\n",
      "2100\n"
     ]
    }
   ],
   "source": [
    "print(mochila)\n",
    "print(pesos)\n",
    "print(valores)\n",
    "print(peso_total)\n",
    "print(valor_total)"
   ]
  },
  {
   "cell_type": "markdown",
   "id": "248ed602",
   "metadata": {},
   "source": [
    "#### Greed Algorithm"
   ]
  },
  {
   "cell_type": "code",
   "execution_count": 182,
   "id": "34d70f1d",
   "metadata": {},
   "outputs": [],
   "source": [
    "class Item(object):\n",
    "    def __init__(self, n, v, p):\n",
    "        self.nome  = n\n",
    "        self.valor = v\n",
    "        self.peso  = p\n",
    "    \n",
    "    def getNome(self):\n",
    "        return self.nome\n",
    "    \n",
    "    def getValor(self):\n",
    "        return self.valor\n",
    "    \n",
    "    def getPeso(self):\n",
    "        return self.peso\n",
    "    \n",
    "    def __str__(self):\n",
    "        resultado = '<' + str(self.nome) + ',' + str(self.valor) + ',' + str(self.peso) + '>'\n",
    "        return resultado"
   ]
  },
  {
   "cell_type": "code",
   "execution_count": 180,
   "id": "e7c3eedc",
   "metadata": {},
   "outputs": [],
   "source": [
    "def valor(item):\n",
    "    return item.getValor()\n",
    "\n",
    "def pesoInverso(item):\n",
    "    return 1.0/item.getPeso()\n",
    "\n",
    "def densidade(item):\n",
    "    return item.getValor()/item.getPeso()"
   ]
  },
  {
   "cell_type": "code",
   "execution_count": 181,
   "id": "3ffb2b69",
   "metadata": {},
   "outputs": [
    {
     "name": "stdout",
     "output_type": "stream",
     "text": [
      "notebook 3000\n",
      "monitor 1000\n",
      "relogio 1000\n",
      "joia 5000\n",
      "quadro 2000\n",
      "livro 100\n",
      "ventilador 100\n",
      "jogo xadrez 100\n",
      "celular iphone 2000\n",
      "tablet 2000\n"
     ]
    }
   ],
   "source": [
    "for index, row in df.iterrows():\n",
    "    print(row['item'], row['valor'])"
   ]
  },
  {
   "cell_type": "code",
   "execution_count": 213,
   "id": "21353c0d",
   "metadata": {},
   "outputs": [],
   "source": [
    "def construirItems():\n",
    "    Items = []\n",
    "    for index, row in df.iterrows():\n",
    "        n = row['item']\n",
    "        v = row['valor']\n",
    "        p = row['peso']\n",
    "        Items.append(Item(n,v,p))\n",
    "    return Items"
   ]
  },
  {
   "cell_type": "code",
   "execution_count": 215,
   "id": "5a58a8e2",
   "metadata": {},
   "outputs": [
    {
     "data": {
      "text/plain": [
       "[3.0, 4.0, 0.5, 0.1, 4.0, 0.5, 2.0, 0.5, 0.5, 0.5]"
      ]
     },
     "execution_count": 215,
     "metadata": {},
     "output_type": "execute_result"
    }
   ],
   "source": [
    "p"
   ]
  },
  {
   "cell_type": "code",
   "execution_count": 216,
   "id": "5ac15649",
   "metadata": {},
   "outputs": [
    {
     "data": {
      "text/plain": [
       "[4.0, 4.0, 3.0, 2.0, 0.5, 0.5, 0.5, 0.5, 0.5, 0.1]"
      ]
     },
     "execution_count": 216,
     "metadata": {},
     "output_type": "execute_result"
    }
   ],
   "source": [
    "sorted(p, reverse=True)"
   ]
  },
  {
   "cell_type": "code",
   "execution_count": 236,
   "id": "2ef68aca",
   "metadata": {},
   "outputs": [],
   "source": [
    "def greedy(items,maxPeso,funcaoChave):\n",
    "    itemsCopia = sorted(items, key=funcaoChave, reverse =True)\n",
    "    resultado  = []\n",
    "    totalValor = 0.0\n",
    "    totalPeso  = 0.0\n",
    "    for i in range(len(itemsCopia)):\n",
    "        if (totalPeso + itemsCopia[i].getPeso()) <= maxPeso:\n",
    "            resultado.append(itemsCopia[i])\n",
    "            totalPeso +=itemsCopia[i].getPeso()\n",
    "            totalValor+=itemsCopia[i].getValor()\n",
    "    return(resultado,totalValor,totalPeso)"
   ]
  },
  {
   "cell_type": "code",
   "execution_count": 268,
   "id": "0461d980",
   "metadata": {},
   "outputs": [],
   "source": [
    "def testar(items, restricao, funcaoChave):\n",
    "    selecionados, val, p = greedy(items,restricao,funcaoChave)\n",
    "    print('Valor Total', val, 'Peso Total', p)\n",
    "    its = ''\n",
    "    for item in selecionados:\n",
    "        its = its + '-' + str(item.getNome())\n",
    "    print(its)"
   ]
  },
  {
   "cell_type": "code",
   "execution_count": 265,
   "id": "45b99cde",
   "metadata": {},
   "outputs": [],
   "source": [
    "def executar(maxPeso = 5):\n",
    "    items = construirItems()\n",
    "    print('maximixar p valor: ')\n",
    "    testar(items,maxPeso,valor)  \n",
    "    print(' --------------')\n",
    "    print('minimizar o peso :')\n",
    "    testar(items,maxPeso,pesoInverso)\n",
    "    print('--------------')\n",
    "    print('minimizar a densidade valor/peso :')\n",
    "    testar(items,maxPeso,densidade)  "
   ]
  },
  {
   "cell_type": "code",
   "execution_count": 269,
   "id": "4e2456a9",
   "metadata": {
    "scrolled": true
   },
   "outputs": [
    {
     "name": "stdout",
     "output_type": "stream",
     "text": [
      "maximixar p valor: \n",
      "Valor Total 13000.0 Peso Total 4.6\n",
      "-joia-notebook-celular iphone-tablet-relogio\n",
      " --------------\n",
      "minimizar o peso :\n",
      "Valor Total 10300.0 Peso Total 4.6\n",
      "-joia-relogio-livro-jogo xadrez-celular iphone-tablet-ventilador\n",
      "--------------\n",
      "minimizar a densidade valor/peso :\n",
      "Valor Total 13000.0 Peso Total 4.6\n",
      "-joia-celular iphone-tablet-relogio-notebook\n"
     ]
    }
   ],
   "source": [
    "executar()"
   ]
  },
  {
   "cell_type": "markdown",
   "id": "7fa6bcd8",
   "metadata": {},
   "source": [
    "https://klauslaube.com.br/2019/01/27/os-greedy-algorithms.html"
   ]
  },
  {
   "cell_type": "code",
   "execution_count": null,
   "id": "2eeff73e",
   "metadata": {},
   "outputs": [],
   "source": []
  }
 ],
 "metadata": {
  "kernelspec": {
   "display_name": "Python 3 (ipykernel)",
   "language": "python",
   "name": "python3"
  },
  "language_info": {
   "codemirror_mode": {
    "name": "ipython",
    "version": 3
   },
   "file_extension": ".py",
   "mimetype": "text/x-python",
   "name": "python",
   "nbconvert_exporter": "python",
   "pygments_lexer": "ipython3",
   "version": "3.9.12"
  },
  "widgets": {
   "application/vnd.jupyter.widget-state+json": {
    "state": {},
    "version_major": 2,
    "version_minor": 0
   }
  }
 },
 "nbformat": 4,
 "nbformat_minor": 5
}
